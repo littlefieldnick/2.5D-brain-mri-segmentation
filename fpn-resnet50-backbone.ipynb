{
 "cells": [
  {
   "cell_type": "code",
   "execution_count": null,
   "metadata": {},
   "outputs": [],
   "source": [
    "from brainmri.dataset.stacker import MriStacker\n",
    "from brainmri.dataset.dataset import *\n",
    "from brainmri.runner.train import train_model\n",
    "\n",
    "import numpy as np\n",
    "import pandas as pd\n",
    "import matplotlib.pyplot as plt\n",
    "\n",
    "import segmentation_models_pytorch as smp"
   ]
  },
  {
   "cell_type": "code",
   "execution_count": null,
   "metadata": {},
   "outputs": [],
   "source": [
    "config = {\n",
    "     'make_stacks': True,\n",
    "     'stack_size': 3,\n",
    "     'data_dir': './data/lgg-mri-segmentation/kaggle_3m/',\n",
    "     'out_dir': './data/lgg-mri-segmentation/2.5D/StackSize=3',\n",
    "     'model_out_pth': './models/fpn-resnet50_aug_{date}.pth',\n",
    "     'augmentations': True,\n",
    "     'epochs': 75,\n",
    "     'batch_size': 64,\n",
    "     'lr': 5e-05,\n",
    "     'optimizer': 'adam',\n",
    "     'model': 'fpn',\n",
    "     'model_encoder': 'resnet50',\n",
    "     'model_act': 'sigmoid',\n",
    "     'encoder_weights': 'imagenet',\n",
    "     'device': 'cuda',\n",
    "     'num_classes': 1\n",
    "}"
   ]
  },
  {
   "cell_type": "code",
   "execution_count": null,
   "metadata": {
    "scrolled": false
   },
   "outputs": [],
   "source": [
    "stacker = MriStacker(root_dir=config.get(\"data_dir\"),\n",
    "                         out_dir=config.get(\"out_dir\"),\n",
    "                         stack_size=config.get(\"stack_size\"))\n",
    "\n",
    "if config.get(\"make_stacks\"):\n",
    "    stacker.process_patients()\n",
    "\n",
    "stacker.gen_train_val_test_split()\n",
    "\n",
    "\n",
    "preprocessing_fn = get_preprocessing_fn(config.get(\"model_encoder\"), config.get(\"encoder_weights\"))\n",
    "train_ds = BrainMriSegmentation(stacker.train_df, config.get(\"stack_size\"),\n",
    "                                transforms=get_augmentations(is_train=True, apply_transforms=config.get(\"augmentations\")),\n",
    "                                preprocessing=get_preprocessing(preprocessing_fn))\n",
    "valid_ds = BrainMriSegmentation(stacker.valid_df, config.get(\"stack_size\"),\n",
    "                                transforms=None, preprocessing=get_preprocessing(preprocessing_fn))\n",
    "\n",
    "train_dl = get_dataloader(train_ds, bs=config.get(\"batch_size\"))\n",
    "valid_dl = get_dataloader(valid_ds, bs=config.get(\"batch_size\"))\n",
    "\n",
    "train_loss, val_loss, train_fscore, val_fscore, train_iou, val_iou  = train_model(config, train_dl, valid_dl)\n"
   ]
  },
  {
   "cell_type": "code",
   "execution_count": null,
   "metadata": {},
   "outputs": [],
   "source": []
  },
  {
   "cell_type": "code",
   "execution_count": null,
   "metadata": {},
   "outputs": [],
   "source": [
    "import torch.nn\n",
    "best_model = torch.load(\"./models/fpn-resnet50_aug_2021-08-23.pth\")"
   ]
  },
  {
   "cell_type": "code",
   "execution_count": null,
   "metadata": {},
   "outputs": [],
   "source": [
    "plt.plot(train_loss)\n",
    "plt.plot(train_fscore)\n",
    "plt.plot(train_iou)\n",
    "plt.plot(val_loss)\n",
    "plt.plot(val_fscore)\n",
    "plt.plot(val_iou)                                                                                \n",
    "\n",
    "plt.legend([\"Train Loss\",  \"Train Dice\", \"Train IoU\", \"Val Loss\", \"Val Dice\", \"Val IoU\"])"
   ]
  },
  {
   "cell_type": "code",
   "execution_count": null,
   "metadata": {},
   "outputs": [],
   "source": [
    "test_ds = BrainMriSegmentation(stacker.test_df, config.get(\"stack_size\"),\n",
    "                                transforms=None, preprocessing=get_preprocessing(preprocessing_fn))\n",
    "test_dl = get_dataloader(test_ds, bs=config.get(\"batch_size\"))"
   ]
  },
  {
   "cell_type": "code",
   "execution_count": null,
   "metadata": {},
   "outputs": [],
   "source": [
    "loss = smp.utils.losses.DiceLoss()\n",
    "metrics = [smp.utils.metrics.IoU(threshold=0.5), smp.utils.metrics.Fscore(threshold=0.5)]\n",
    "    \n",
    "test_epoch =  smp.utils.train.ValidEpoch(\n",
    "    best_model,\n",
    "    loss=loss,\n",
    "    metrics=metrics,\n",
    "    device=config.get(\"device\"),\n",
    "    verbose=True\n",
    ")"
   ]
  },
  {
   "cell_type": "code",
   "execution_count": null,
   "metadata": {},
   "outputs": [],
   "source": [
    "test_epoch.run(test_dl)"
   ]
  },
  {
   "cell_type": "code",
   "execution_count": null,
   "metadata": {},
   "outputs": [],
   "source": []
  }
 ],
 "metadata": {
  "kernelspec": {
   "display_name": "Python 3",
   "language": "python",
   "name": "python3"
  },
  "language_info": {
   "codemirror_mode": {
    "name": "ipython",
    "version": 3
   },
   "file_extension": ".py",
   "mimetype": "text/x-python",
   "name": "python",
   "nbconvert_exporter": "python",
   "pygments_lexer": "ipython3",
   "version": "3.6.10"
  }
 },
 "nbformat": 4,
 "nbformat_minor": 4
}
