{
 "cells": [
  {
   "cell_type": "code",
   "execution_count": null,
   "metadata": {},
   "outputs": [],
   "source": [
    "import numpy as np\n",
    "import pandas as pd\n",
    "import matplotlib.pyplot as plt\n",
    "\n",
    "import torch\n",
    "import albumentations as A\n",
    "from albumentations.pytorch import ToTensor\n",
    "from brainmri.dataset.stacker import MriStacker\n",
    "from brainmri.dataset.dataset import BrainMriSegmentation, get_dataloader"
   ]
  },
  {
   "cell_type": "code",
   "execution_count": null,
   "metadata": {},
   "outputs": [],
   "source": []
  },
  {
   "cell_type": "code",
   "execution_count": null,
   "metadata": {},
   "outputs": [],
   "source": [
    "stacker = MriStacker(root_dir=None, # Not preprocessing stacks no need to point to root directory with MRI images\n",
    "                         out_dir=\"/home/nlittlefield/Documents/2.5D-brain-mri-segmentation/data/lgg-mri-segmentation/2.5D/StackSize=3/\",\n",
    "                         stack_size=3)\n",
    "\n",
    "stacker.gen_train_val_test_split()"
   ]
  },
  {
   "cell_type": "code",
   "execution_count": null,
   "metadata": {},
   "outputs": [],
   "source": [
    "test_ds = BrainMriSegmentation(stacker.test_df, transforms=A.Compose([ToTensor()]), preprocessing=None)\n",
    "test_dl = get_dataloader(test_ds, bs=2)"
   ]
  },
  {
   "cell_type": "code",
   "execution_count": null,
   "metadata": {},
   "outputs": [],
   "source": [
    "model = torch.load(\"/home/nlittlefield/Documents/2.5D-brain-mri-segmentation/models/unet-scratch_aug_2021-08-26.pth\")\n",
    "model.cuda()"
   ]
  },
  {
   "cell_type": "code",
   "execution_count": null,
   "metadata": {},
   "outputs": [],
   "source": [
    "batch = next(iter(test_dl))\n",
    "preds = model(batch[0].cuda()).detach().cpu()\n",
    "print(preds.shape)\n",
    "\n",
    "out_cut = np.copy(preds.detach().cpu().numpy())\n",
    "print(out_cut.shape)\n",
    "out_cut[out_cut < 0.5] = 0.0\n",
    "out_cut[out_cut >= 0.5] = 1.0\n",
    "masks = batch[1].squeeze(1)\n",
    "\n",
    "np.unique(out_cut)\n",
    "\n",
    "out_cut.shape\n",
    "\n",
    "import matplotlib.pyplot as plt\n",
    "fig, ax = plt.subplots(nrows=2,  ncols=2, figsize=(10,10), squeeze=True, sharex=True, sharey=True)\n",
    "\n",
    "for i, pred in enumerate(preds):\n",
    "    ax[i, 0].imshow(masks[i].reshape(256, 256))\n",
    "    ax[i, 1].imshow(out_cut[i].reshape(256, 256))"
   ]
  },
  {
   "cell_type": "code",
   "execution_count": null,
   "metadata": {},
   "outputs": [],
   "source": []
  },
  {
   "cell_type": "code",
   "execution_count": null,
   "metadata": {},
   "outputs": [],
   "source": []
  }
 ],
 "metadata": {
  "kernelspec": {
   "display_name": "Python 3",
   "language": "python",
   "name": "python3"
  },
  "language_info": {
   "codemirror_mode": {
    "name": "ipython",
    "version": 3
   },
   "file_extension": ".py",
   "mimetype": "text/x-python",
   "name": "python",
   "nbconvert_exporter": "python",
   "pygments_lexer": "ipython3",
   "version": "3.6.10"
  }
 },
 "nbformat": 4,
 "nbformat_minor": 4
}
