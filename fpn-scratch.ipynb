{
 "cells": [
  {
   "cell_type": "code",
   "execution_count": null,
   "metadata": {},
   "outputs": [],
   "source": [
    "from brainmri.dataset.stacker import MriStacker\n",
    "from brainmri.dataset.dataset import *\n",
    "from brainmri.models.arch import FPN\n",
    "from brainmri.runner.train import train_model\n",
    "\n",
    "import numpy as np\n",
    "import pandas as pd\n",
    "import matplotlib.pyplot as plt\n",
    "from datetime import date\n",
    "\n",
    "import albumentations as A\n",
    "from albumentations.pytorch import ToTensor\n",
    "import torch\n",
    "import torch.nn as nn\n",
    "\n",
    "import segmentation_models_pytorch as smp"
   ]
  },
  {
   "cell_type": "code",
   "execution_count": null,
   "metadata": {},
   "outputs": [],
   "source": [
    "config = {\n",
    "     'make_stacks': True,\n",
    "     'stack_size': 3,\n",
    "     'data_dir': './data/lgg-mri-segmentation/kaggle_3m/',\n",
    "     'out_dir': './data/lgg-mri-segmentation/2.5D/StackSize=3',\n",
    "     'model_out_pth': './models/fpn-scratch_aug_{date}.pth',\n",
    "     'augmentations': True,\n",
    "     'epochs': 300,\n",
    "     'batch_size': 64,\n",
    "     'lr': 1e-04,\n",
    "     'optimizer': 'adam',\n",
    "     'device': 'cuda',\n",
    "     'num_classes': 1\n",
    "}"
   ]
  },
  {
   "cell_type": "code",
   "execution_count": null,
   "metadata": {},
   "outputs": [],
   "source": [
    "A.__version__"
   ]
  },
  {
   "cell_type": "code",
   "execution_count": null,
   "metadata": {},
   "outputs": [],
   "source": [
    "def get_augmentations(is_train, apply_transforms=False):\n",
    "    if is_train and not apply_transforms:\n",
    "        print(\"apply_transforms is False. Augmentations not applied\")\n",
    "        \n",
    "    return A.Compose([\n",
    "        A.RandomCrop(width = 128, height = 128, p=1.0),\n",
    "        A.HorizontalFlip(p=0.5),\n",
    "        A.RandomRotate90(p=0.5),\n",
    "        A.Transpose(p=0.5),\n",
    "        A.ShiftScaleRotate(shift_limit=0.01, scale_limit=0.04, rotate_limit=0, p=0.25),\n",
    "\n",
    "        # Pixels\n",
    "        A.RandomBrightnessContrast(p=0.5),\n",
    "        A.RandomGamma(p=0.25),\n",
    "        A.IAAEmboss(p=0.25),\n",
    "        A.Blur(p=0.01, blur_limit = 3),\n",
    "\n",
    "        # Affine\n",
    "        A.OneOf([\n",
    "            A.ElasticTransform(p=0.5, alpha=120, sigma=120 * 0.05, alpha_affine=120 * 0.03),\n",
    "            A.GridDistortion(p=0.5),\n",
    "            A.OpticalDistortion(p=1, distort_limit=2, shift_limit=0.5)                  \n",
    "        ], p=0.8),\n",
    "        ToTensor()\n",
    "    ])"
   ]
  },
  {
   "cell_type": "code",
   "execution_count": null,
   "metadata": {
    "scrolled": false
   },
   "outputs": [],
   "source": [
    "stacker = MriStacker(root_dir=config.get(\"data_dir\"),\n",
    "                         out_dir=config.get(\"out_dir\"),\n",
    "                         stack_size=config.get(\"stack_size\"))\n",
    "\n",
    "if config.get(\"make_stacks\"):\n",
    "    stacker.process_patients()\n",
    "\n",
    "stacker.gen_train_val_test_split()\n",
    "\n",
    "augs = get_augmentations(is_train=True, apply_transforms=config.get(\"augmentations\"))\n",
    "train_ds = BrainMriSegmentation(stacker.train_df, config.get(\"stack_size\"),\n",
    "                                transforms=get_augmentations(is_train=True, apply_transforms=config.get(\"augmentations\")),\n",
    "                                preprocessing=None)\n",
    "valid_ds = BrainMriSegmentation(stacker.valid_df, config.get(\"stack_size\"),\n",
    "                                transforms=A.Compose([ToTensor()]), preprocessing=None)\n",
    "\n",
    "train_dl = get_dataloader(train_ds, bs=config.get(\"batch_size\"))\n",
    "valid_dl = get_dataloader(valid_ds, bs=config.get(\"batch_size\"))\n",
    "\n",
    "\n",
    "model = FPN(3)\n",
    "\n",
    "optimizer = torch.optim.Adam(model.parameters(), lr=config.get(\"lr\"))\n",
    "\n",
    "if torch.cuda.device_count() > 1 and config.get(\"device\") == \"cuda\":\n",
    "    print(\"Let's use\", torch.cuda.device_count(), \"GPUs!\")\n",
    "    model = nn.DataParallel(model)\n",
    "    model = model.cuda()\n",
    "\n",
    "loss = smp.utils.losses.DiceLoss()\n",
    "metrics = [smp.utils.metrics.IoU(threshold=0.5), smp.utils.metrics.Fscore(threshold=0.5)]\n",
    "\n",
    "train_epoch = smp.utils.train.TrainEpoch(\n",
    "    model,\n",
    "    loss=loss,\n",
    "    metrics=metrics,\n",
    "    optimizer=optimizer,\n",
    "    device=config.get(\"device\"),\n",
    "    verbose=True\n",
    ")\n",
    "\n",
    "valid_epoch = smp.utils.train.ValidEpoch(\n",
    "    model,\n",
    "    loss=loss,\n",
    "    metrics=metrics,\n",
    "    device=config.get(\"device\"),\n",
    "    verbose=True\n",
    ")\n",
    "\n",
    "train_loss, valid_loss, train_fscore, valid_fscore, train_iou, valid_iou = [], [], [], [], [], []\n",
    "\n",
    "max_score = 0\n",
    "for i in range(0, config.get(\"epochs\")):\n",
    "    print('\\nEpoch: {}'.format(i))\n",
    "    train_logs = train_epoch.run(train_dl)\n",
    "    valid_logs = valid_epoch.run(valid_dl)\n",
    "\n",
    "    if max_score < valid_logs[\"fscore\"]:\n",
    "        max_score = valid_logs[\"fscore\"]\n",
    "        torch.save(model, config.get(\"model_out_pth\").format(date=str(date.today())))\n",
    "        print(\"Model saved!\")\n",
    "\n",
    "    train_loss.append(train_logs[\"dice_loss\"])\n",
    "    valid_loss.append(valid_logs[\"dice_loss\"])\n",
    "    train_fscore.append(train_logs[\"fscore\"])\n",
    "    valid_fscore.append(valid_logs[\"fscore\"])\n",
    "    train_iou.append(train_logs[\"iou_score\"])\n",
    "    valid_iou.append(valid_logs[\"iou_score\"])  \n",
    "\n"
   ]
  },
  {
   "cell_type": "code",
   "execution_count": null,
   "metadata": {},
   "outputs": [],
   "source": [
    "plt.plot(train_loss)\n",
    "plt.plot(train_fscore)\n",
    "plt.plot(train_iou)\n",
    "plt.plot(valid_loss)\n",
    "plt.plot(valid_fscore)\n",
    "plt.plot(valid_iou)                                                                                \n",
    "\n",
    "plt.legend([\"Train Loss\",  \"Train Dice\", \"Train IoU\", \"Val Loss\", \"Val Dice\", \"Val IoU\"])"
   ]
  },
  {
   "cell_type": "code",
   "execution_count": null,
   "metadata": {},
   "outputs": [],
   "source": [
    "best_model = torch.load(\"./models/fpn-scratch_aug_2021-08-26.pth\")"
   ]
  },
  {
   "cell_type": "code",
   "execution_count": null,
   "metadata": {},
   "outputs": [],
   "source": [
    "test_ds = BrainMriSegmentation(stacker.test_df, config.get(\"stack_size\"),\n",
    "                                transforms=A.Compose([ToTensor()]))\n",
    "test_dl = get_dataloader(test_ds, bs=config.get(\"batch_size\"))"
   ]
  },
  {
   "cell_type": "code",
   "execution_count": null,
   "metadata": {},
   "outputs": [],
   "source": [
    "loss = smp.utils.losses.DiceLoss()\n",
    "metrics = [smp.utils.metrics.IoU(threshold=0.5), smp.utils.metrics.Fscore(threshold=0.5)]\n",
    "    \n",
    "test_epoch =  smp.utils.train.ValidEpoch(\n",
    "    best_model,\n",
    "    loss=loss,\n",
    "    metrics=metrics,\n",
    "    device=config.get(\"device\"),\n",
    "    verbose=True\n",
    ")"
   ]
  },
  {
   "cell_type": "code",
   "execution_count": null,
   "metadata": {},
   "outputs": [],
   "source": [
    "test_epoch.run(test_dl)"
   ]
  },
  {
   "cell_type": "code",
   "execution_count": null,
   "metadata": {},
   "outputs": [],
   "source": []
  }
 ],
 "metadata": {
  "kernelspec": {
   "display_name": "Python 3",
   "language": "python",
   "name": "python3"
  },
  "language_info": {
   "codemirror_mode": {
    "name": "ipython",
    "version": 3
   },
   "file_extension": ".py",
   "mimetype": "text/x-python",
   "name": "python",
   "nbconvert_exporter": "python",
   "pygments_lexer": "ipython3",
   "version": "3.6.10"
  }
 },
 "nbformat": 4,
 "nbformat_minor": 4
}
